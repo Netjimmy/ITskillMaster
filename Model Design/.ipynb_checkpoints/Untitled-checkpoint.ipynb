{
 "cells": [
  {
   "cell_type": "code",
   "execution_count": 8,
   "metadata": {
    "collapsed": false
   },
   "outputs": [],
   "source": [
    "import json\n",
    "import cPickle as pickle\n",
    "\n",
    "list_skill = {\"南投縣\": \"5.013\", \"台中市\": \"8.8197\", \"台北市\": \"1.72349\", \"台南市\": \"3.3778\", \"台東縣\": \"1.25\", \"嘉義市\": \"4.379\", \"嘉義縣\": \"4.384\", \"基隆市\": \"5.649\", \"宜蘭縣\": \"5.586\", \"屏東縣\": \"6.35\", \"彰化縣\": \"2.4969\", \"新北市\": \"1.27074\", \"新竹市\": \"1.0949\", \"新竹縣\": \"1.1176\", \"桃園市\": \"5.4086\", \"澎湖縣\": \"6.59\", \"花蓮縣\": \"3.608\", \"苗栗縣\": \"6.85\", \"連江縣\": \"1.49\", \"金門縣\": \"1.089\", \"雲林縣\": \"6.395\", \"高雄市\": \"8.1647\"}\n",
    "\n",
    "skillJSON = json.dumps(list_skill, ensure_ascii=False)\n",
    "\n",
    "f = open(\"location.json\", 'w')\n",
    "f.write(skillJSON)\n",
    "f.close()"
   ]
  },
  {
   "cell_type": "code",
   "execution_count": 12,
   "metadata": {
    "collapsed": false
   },
   "outputs": [
    {
     "name": "stdout",
     "output_type": "stream",
     "text": [
      "[{'radius': '12', 'group': 1, 'name': '.NET'}, {'radius': '67', 'group': 2, 'name': 'AJAX'}, {'radius': '4', 'group': 3, 'name': 'Android'}, {'radius': '4', 'group': 4, 'name': 'App'}, {'radius': '2', 'group': 5, 'name': 'ASP.NET'}, {'radius': '80', 'group': 6, 'name': 'C'}, {'radius': '11', 'group': 7, 'name': 'C#'}, {'radius': '2', 'group': 8, 'name': 'C#.NET'}, {'radius': '65', 'group': 9, 'name': 'C++'}, {'radius': '8', 'group': 10, 'name': 'CSS'}, {'radius': '29', 'group': 11, 'name': 'HTML'}, {'radius': '2', 'group': 12, 'name': 'iOS'}, {'radius': '141', 'group': 13, 'name': 'Java'}, {'radius': '39', 'group': 14, 'name': 'JavaScript'}, {'radius': '6', 'group': 15, 'name': 'jQuery'}, {'radius': '20', 'group': 16, 'name': 'JSP'}, {'radius': '407', 'group': 17, 'name': 'Linux'}, {'radius': '86', 'group': 18, 'name': 'MySQL'}, {'radius': '0', 'group': 19, 'name': 'Objective-C'}, {'radius': '39', 'group': 20, 'name': 'PHP'}, {'radius': '45', 'group': 21, 'name': 'Python'}, {'radius': '162', 'group': 22, 'name': 'Sql'}, {'radius': '1000', 'group': 23, 'name': 'Unix'}, {'radius': '9', 'group': 24, 'name': 'Visual Basic'}, {'radius': '3', 'group': 25, 'name': 'Visual C++'}, {'radius': '20', 'group': 26, 'name': 'XML'}]\n"
     ]
    }
   ],
   "source": [
    "#coding=utf-8\n",
    "import json\n",
    "import MySQLdb\n",
    "import math\n",
    "\n",
    "with open('skill_list.json') as data_file:    \n",
    "    data = json.load(data_file)\n",
    "\n",
    "db = MySQLdb.connect(\"10.120.26.46\",\"yang\",\"iiizb104\",\"project\" )\n",
    "cursor = db.cursor()\n",
    "# sql = \"SELECT skill FROM project.job where jobno between 1 AND 1000\"\n",
    "sql = \"SELECT clusterVector FROM project.cluster where cID = {};\".format(2)\n",
    "cursor.execute(sql)\n",
    "results = cursor.fetchone()\n",
    "\n",
    "num = json.loads(results[0])\n",
    "\n",
    "# print str(round(num[0]*1000))\n",
    "\n",
    "# print 1 / (1 + math.exp(-num[0]))\n",
    "\n",
    "items = []\n",
    "for each in range(0,26,1):  \n",
    "    tmp = (num[each] - min(num))/(max(num)-min(num))\n",
    "    tmpDic={\"name\":data[each].encode('utf-8'), \"group\":each+1,\\\n",
    "            \"radius\":str(int(round(tmp*1000)))}\n",
    "#     tmpDic[count]:str(round(num[0]*1000))\n",
    "    items.append(tmpDic)\n",
    "\n",
    "print items"
   ]
  },
  {
   "cell_type": "code",
   "execution_count": 2,
   "metadata": {
    "collapsed": false
   },
   "outputs": [
    {
     "name": "stdout",
     "output_type": "stream",
     "text": [
      "1797\n"
     ]
    }
   ],
   "source": [
    "import cPickle as pickle\n",
    "\n",
    "tmp = pickle.load(file(\"dic\\set_skill_final.data\"))\n",
    "\n",
    "print len(tmp)\n"
   ]
  },
  {
   "cell_type": "code",
   "execution_count": null,
   "metadata": {
    "collapsed": true
   },
   "outputs": [],
   "source": []
  }
 ],
 "metadata": {
  "kernelspec": {
   "display_name": "Python 2",
   "language": "python",
   "name": "python2"
  },
  "language_info": {
   "codemirror_mode": {
    "name": "ipython",
    "version": 2
   },
   "file_extension": ".py",
   "mimetype": "text/x-python",
   "name": "python",
   "nbconvert_exporter": "python",
   "pygments_lexer": "ipython2",
   "version": "2.7.11"
  }
 },
 "nbformat": 4,
 "nbformat_minor": 0
}
