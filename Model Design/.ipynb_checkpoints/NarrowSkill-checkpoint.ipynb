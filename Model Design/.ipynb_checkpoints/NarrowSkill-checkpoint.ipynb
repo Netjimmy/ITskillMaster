{
 "cells": [
  {
   "cell_type": "code",
   "execution_count": 61,
   "metadata": {
    "collapsed": true
   },
   "outputs": [],
   "source": [
    "from nltk.util import ngrams\n",
    "def ngram(x): #傳入List\n",
    "    # sentence = x\n",
    "    outary = []\n",
    "    for n in range(1,5):\n",
    "        grams = ngrams(x, n)\n",
    "        for gram in grams:\n",
    "            soutstr = ''\n",
    "            for i in range(0,n):\n",
    "                if len(soutstr) == 0:\n",
    "                    soutstr = gram[i]\n",
    "                else:\n",
    "                    soutstr = soutstr + ' ' + gram[i]\n",
    "            outary.append(soutstr)\n",
    "    return outary #回傳list"
   ]
  },
  {
   "cell_type": "code",
   "execution_count": 72,
   "metadata": {
    "collapsed": false
   },
   "outputs": [
    {
     "name": "stdout",
     "output_type": "stream",
     "text": [
      "True\n"
     ]
    }
   ],
   "source": [
    "#coding=utf-8\n",
    "import time\n",
    "import pandas as pd\n",
    "import numpy as np\n",
    "import cPickle as pickle\n",
    "import WordTransform as wt\n",
    "\n",
    "ts = time.time()\n",
    "\n",
    "#匯入技能原始資料\n",
    "rfile=open('old\\skills_all.txt','r')\n",
    "raw = rfile.readlines()\n",
    "rfile.close()\n",
    "\n",
    "#變數設定\n",
    "rawData = [] #原始資料 2-D list\n",
    "set_skill = pickle.load(file('dic\\set_skill_v6.data')) #技能 Set              \n",
    "\n",
    "print 'zzw3' in set_skill\n",
    "\n",
    "for each in raw[0].split(','):\n",
    "    tmpList = each.split(' ')\n",
    "    \n",
    "    #相似字和錯別字轉換\n",
    "    tmpList = wt.changeWord(tmpList)\n",
    "\n",
    "    #將字解成 4-gram\n",
    "    tmpList = ngram(tmpList)\n",
    "\n",
    "    #刪除不需要的字\n",
    "    tmpList = wt.deleteWord(tmpList)\n",
    "    rawData.append(tmpList)\n",
    "    \n",
    "#為每筆資料建立dic並計算技能出現次數\n",
    "                        \n",
    "List_of_dic = [] # table row\n",
    "zeroDic = {} #每筆資料技能Dic計算初始化\n",
    "for each in set_skill:\n",
    "    zeroDic[each] = 0 \n",
    "\n",
    "for sen in rawData:\n",
    "    tempDic = zeroDic.copy()\n",
    "    for word in sen:\n",
    "        if word in set_skill:\n",
    "            tempDic[word] += 1\n",
    "    List_of_dic.append(tempDic)\n",
    "                        \n",
    "#建立新 2-D list\n",
    "list_Skill = sorted(set_skill)\n",
    "newData = []\n",
    "for row in List_of_dic:\n",
    "    tempList = []\n",
    "    for each in list_Skill:\n",
    "        tempList.append(row[each])\n",
    "    newData.append(tempList)\n",
    "\n",
    "#轉為panda dataframe格式\n",
    "rawDF = pd.DataFrame(newData, columns=list_Skill)\n",
    "\n",
    "skillSum = rawDF.sum(axis=0) #這邊官方文件有錯誤 axis=0 才是計算 column sum\n",
    "\n",
    "\n"
   ]
  },
  {
   "cell_type": "code",
   "execution_count": 71,
   "metadata": {
    "collapsed": false
   },
   "outputs": [
    {
     "name": "stdout",
     "output_type": "stream",
     "text": [
      "43\n",
      "                    0     1\n",
      "41               java  5395\n",
      "6                 sql  4897\n",
      "24                  c  4426\n",
      "14                c++  4203\n",
      "25              linux  3839\n",
      "36                 c#  2737\n",
      "35            asp.net  2611\n",
      "40                php  2408\n",
      "26              mysql  2401\n",
      "23         javascript  2397\n",
      "16               html  2309\n",
      "38            android  2100\n",
      "21             jquery  1865\n",
      "30                app  1522\n",
      "33               .net  1409\n",
      "9                ajax  1311\n",
      "39                ios  1234\n",
      "18       visual basic  1200\n",
      "19                css   955\n",
      "15        java script   896\n",
      "13                xml   854\n",
      "31             c#.net   752\n",
      "20                asp   743\n",
      "22                jsp   739\n",
      "32             python   737\n",
      "0                unix   699\n",
      "12         visual c++   532\n",
      "10        programming   521\n",
      "28             vmware   425\n",
      "11         sql server   425\n",
      "1                 mvc   415\n",
      "17           embedded   413\n",
      "27                 ui   384\n",
      "8               dhtml   382\n",
      "7              vb.net   373\n",
      "29         windows nt   357\n",
      "42  visual basic .net   347\n",
      "34              shell   346\n",
      "3               html5   343\n",
      "5                 uml   336\n",
      "2              struts   329\n",
      "4                 mcu   310\n",
      "37               j2ee   301\n"
     ]
    },
    {
     "name": "stderr",
     "output_type": "stream",
     "text": [
      "C:\\Users\\BigData\\Anaconda2\\lib\\site-packages\\ipykernel\\__main__.py:33: FutureWarning: sort(columns=....) is deprecated, use sort_values(by=.....)\n"
     ]
    }
   ],
   "source": [
    "#建立 skill的 sum字典\n",
    "skillDicSum = {}\n",
    "for index in range(0, len(list_Skill)-1, 1):\n",
    "    skillDicSum[list_Skill[index]]=skillSum[index]\n",
    "\n",
    "\n",
    "#建立清洗 skill 的 set\n",
    "skillFilter = set()    \n",
    "for each in range(0, len(skillSum)-1, 1):\n",
    "    if skillSum[each] <= 300:  #只出現過一次視為極為不重要的字\n",
    "        skillFilter.add(list_Skill[each])\n",
    "\n",
    "#清洗\n",
    "fskill_set=set_skill.difference(skillFilter)\n",
    "\n",
    "for each in skillFilter: \n",
    "    if each in skillDicSum:\n",
    "        skillDicSum.pop(each)\n",
    "        \n",
    "tmpSkill = sorted(skillDicSum.values())\n",
    "\n",
    "# tmpSkill.remove(' ')\n",
    "\n",
    "\n",
    "# print len(tmpSkill)\n",
    "# f = file('dic\\set_skill_v5_1000.data', 'w')\n",
    "# pickle.dump(fskill_set,f)\n",
    "# f.close()\n",
    "\n",
    "tmpDF = pd.DataFrame.from_dict(skillDicSum.items())\n",
    "pd.set_option('max_rows', None)\n",
    "print len(tmpDF.index)\n",
    "print tmpDF.sort(columns=1, ascending=False)\n",
    "\n",
    "\n",
    "# a.to_csv('skills_tmp.csv',encoding='utf-8')\n",
    "\n",
    "# te = time.time()\n",
    "# print te-ts"
   ]
  },
  {
   "cell_type": "code",
   "execution_count": null,
   "metadata": {
    "collapsed": true
   },
   "outputs": [],
   "source": []
  },
  {
   "cell_type": "code",
   "execution_count": null,
   "metadata": {
    "collapsed": true
   },
   "outputs": [],
   "source": []
  },
  {
   "cell_type": "code",
   "execution_count": null,
   "metadata": {
    "collapsed": true
   },
   "outputs": [],
   "source": []
  }
 ],
 "metadata": {
  "kernelspec": {
   "display_name": "Python 2",
   "language": "python",
   "name": "python2"
  },
  "language_info": {
   "codemirror_mode": {
    "name": "ipython",
    "version": 2
   },
   "file_extension": ".py",
   "mimetype": "text/x-python",
   "name": "python",
   "nbconvert_exporter": "python",
   "pygments_lexer": "ipython2",
   "version": "2.7.11"
  }
 },
 "nbformat": 4,
 "nbformat_minor": 0
}
