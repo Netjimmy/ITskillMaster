{
 "cells": [
  {
   "cell_type": "code",
   "execution_count": 47,
   "metadata": {
    "collapsed": false
   },
   "outputs": [
    {
     "name": "stdout",
     "output_type": "stream",
     "text": [
      "26\n",
      "['.net', 'ajax', 'android', 'app', 'asp.net', 'c', 'c#', 'c#.net', 'c++', 'css', 'html', 'ios', 'java', 'javascript', 'jquery', 'jsp', 'linux', 'mysql', 'objective-c', 'php', 'python', 'sql', 'unix', 'visual basic', 'visual c++', 'xml']\n"
     ]
    }
   ],
   "source": [
    "#coding=utf-8\n",
    "import cPickle as pickle\n",
    "import MySQLdb\n",
    "import json\n",
    "from sklearn.feature_extraction.text import TfidfTransformer\n",
    "import matplotlib.pyplot as plt\n",
    "from sklearn.cluster import KMeans\n",
    "from sklearn.metrics import silhouette_samples, silhouette_score\n",
    "import matplotlib.cm as cm\n",
    "import numpy as np\n",
    "import json\n",
    "\n",
    "\n",
    "\n",
    "set_skill = pickle.load(file('dic\\set_skill_v8_500.data'))\n",
    "\n",
    "print len(set_skill)\n",
    "\n",
    "list_skill = sorted(set_skill)\n",
    "\n",
    "print sorted(set_skill)\n",
    "\n",
    "db = MySQLdb.connect(\"10.120.26.46\",\"yang\",\"iiizb104\",\"project\" )\n",
    "cursor = db.cursor()\n",
    "# sql = \"SELECT skill FROM project.job where jobno between 1 AND 1000\"\n",
    "sql = \"SELECT jobno, skill FROM project.jobstorage WHERE skill NOT REGEXP '{}';\"\n",
    "\n",
    "# 执行SQL语句\n",
    "cursor.execute(sql)\n",
    "# 获取所有记录列表\n",
    "results = cursor.fetchall()\n",
    "\n",
    "list_of_lists = []\n",
    "List_jobno = []\n",
    "\n",
    "for row in results:\n",
    "    tmpdic = json.loads(row[1])\n",
    "    # for each in tmpdic:\n",
    "    #     tmpdic[each]=1\n",
    "    for each in set_skill:\n",
    "        if each not in tmpdic:\n",
    "            tmpdic[each]=0\n",
    "    tmpList = []\n",
    "    for each in list_skill:\n",
    "        tmpList.append(tmpdic[each])\n",
    "    # 空值陣列踢除\n",
    "    if tmpList != np.zeros(len(set_skill)).tolist():\n",
    "        list_of_lists.append(tmpList)\n",
    "        List_jobno.append(row[0])\n",
    "\n",
    "transformer = TfidfTransformer()\n",
    "X = transformer.fit_transform(list_of_lists)\n",
    "\n",
    "cluster_labels = KMeans(n_clusters=15).fit_predict(X)\n",
    "\n",
    "# print cluster_labels\n"
   ]
  },
  {
   "cell_type": "code",
   "execution_count": 7,
   "metadata": {
    "collapsed": false
   },
   "outputs": [],
   "source": [
    "db = MySQLdb.connect(\"10.120.26.46\",\"yang\",\"iiizb104\",\"project\" )\n",
    "cursor = db.cursor()\n",
    "for each in range(0, len(cluster_labels), 1):\n",
    "    upsql = \"UPDATE project.jobstorage SET cluster = %d WHERE jobno = %d\" % (cluster_labels[each], List_jobno[each])\n",
    "    try:\n",
    "       cursor.execute(upsql)\n",
    "       db.commit()\n",
    "    except:\n",
    "       db.rollback()"
   ]
  },
  {
   "cell_type": "code",
   "execution_count": 51,
   "metadata": {
    "collapsed": false
   },
   "outputs": [],
   "source": [
    "import pandas as pd\n",
    "db = MySQLdb.connect(\"10.120.26.46\",\"yang\",\"iiizb104\",\"project\" )\n",
    "cursor = db.cursor()\n",
    "\n",
    "Kdf = pd.DataFrame(X.toarray(), columns=list_skill, index=List_jobno)\n",
    "Kdf.columns.name = 'skill'\n",
    "Kdf.index.name = 'jobno'\n",
    "\n",
    "Kdf['cluster'] = cluster_labels\n",
    "\n",
    "# print type([Kdf[Kdf['cluster'] == each]])\n",
    "\n",
    "#將各群拆開獨立計算TFIDF向量平均\n",
    "List_of_TFIDF = []\n",
    "for each in range(0,15,1):\n",
    "    tmpDF = Kdf[Kdf['cluster'] == each ]\n",
    "    skillVector = (tmpDF[list_skill].sum(axis=0)/len(tmpDF.index)).tolist()\n",
    "    List_of_TFIDF.append(skillVector)\n",
    "    \n",
    "for each in range(0,15,1):\n",
    "    tmpJ = json.dumps(List_of_TFIDF[each], ensure_ascii=False)\n",
    "    upsql = \"UPDATE cluster SET clusterVector = '%s' where cID = %d\" % (tmpJ, each)\n",
    "    try:\n",
    "       cursor.execute(upsql)\n",
    "       db.commit()\n",
    "    except:\n",
    "       db.rollback()\n",
    "db.close()\n",
    "    "
   ]
  },
  {
   "cell_type": "code",
   "execution_count": null,
   "metadata": {
    "collapsed": true
   },
   "outputs": [],
   "source": []
  },
  {
   "cell_type": "code",
   "execution_count": null,
   "metadata": {
    "collapsed": true
   },
   "outputs": [],
   "source": []
  }
 ],
 "metadata": {
  "kernelspec": {
   "display_name": "Python 2",
   "language": "python",
   "name": "python2"
  },
  "language_info": {
   "codemirror_mode": {
    "name": "ipython",
    "version": 2
   },
   "file_extension": ".py",
   "mimetype": "text/x-python",
   "name": "python",
   "nbconvert_exporter": "python",
   "pygments_lexer": "ipython2",
   "version": "2.7.11"
  }
 },
 "nbformat": 4,
 "nbformat_minor": 0
}
