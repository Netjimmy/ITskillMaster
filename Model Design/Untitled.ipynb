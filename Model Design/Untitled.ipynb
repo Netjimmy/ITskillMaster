{
 "cells": [
  {
   "cell_type": "code",
   "execution_count": 8,
   "metadata": {
    "collapsed": false
   },
   "outputs": [],
   "source": [
    "import json\n",
    "import cPickle as pickle\n",
    "\n",
    "list_skill = {\"南投縣\": \"5.013\", \"台中市\": \"8.8197\", \"台北市\": \"1.72349\", \"台南市\": \"3.3778\", \"台東縣\": \"1.25\", \"嘉義市\": \"4.379\", \"嘉義縣\": \"4.384\", \"基隆市\": \"5.649\", \"宜蘭縣\": \"5.586\", \"屏東縣\": \"6.35\", \"彰化縣\": \"2.4969\", \"新北市\": \"1.27074\", \"新竹市\": \"1.0949\", \"新竹縣\": \"1.1176\", \"桃園市\": \"5.4086\", \"澎湖縣\": \"6.59\", \"花蓮縣\": \"3.608\", \"苗栗縣\": \"6.85\", \"連江縣\": \"1.49\", \"金門縣\": \"1.089\", \"雲林縣\": \"6.395\", \"高雄市\": \"8.1647\"}\n",
    "\n",
    "skillJSON = json.dumps(list_skill, ensure_ascii=False)\n",
    "\n",
    "f = open(\"location.json\", 'w')\n",
    "f.write(skillJSON)\n",
    "f.close()"
   ]
  },
  {
   "cell_type": "code",
   "execution_count": 27,
   "metadata": {
    "collapsed": false,
    "scrolled": true
   },
   "outputs": [
    {
     "name": "stdout",
     "output_type": "stream",
     "text": [
      "\n",
      "{\"name\":\".NET\",\"group\":1,\"radius\":1},\n",
      "{\"name\":\"AJAX\",\"group\":2,\"radius\":9},\n",
      "{\"name\":\"Android\",\"group\":3,\"radius\":1},\n",
      "{\"name\":\"App\",\"group\":4,\"radius\":3},\n",
      "{\"name\":\"ASP.NET\",\"group\":5,\"radius\":4},\n",
      "{\"name\":\"C\",\"group\":6,\"radius\":3},\n",
      "{\"name\":\"C#\",\"group\":7,\"radius\":4},\n",
      "{\"name\":\"C#.NET\",\"group\":8,\"radius\":1},\n",
      "{\"name\":\"C++\",\"group\":9,\"radius\":2},\n",
      "{\"name\":\"CSS\",\"group\":10,\"radius\":12},\n",
      "{\"name\":\"HTML\",\"group\":11,\"radius\":19},\n",
      "{\"name\":\"iOS\",\"group\":12,\"radius\":1},\n",
      "{\"name\":\"Java\",\"group\":13,\"radius\":13},\n",
      "{\"name\":\"JavaScript\",\"group\":14,\"radius\":23},\n",
      "{\"name\":\"jQuery\",\"group\":15,\"radius\":16},\n",
      "{\"name\":\"JSP\",\"group\":16,\"radius\":3},\n",
      "{\"name\":\"Linux\",\"group\":17,\"radius\":20},\n",
      "{\"name\":\"MySQL\",\"group\":18,\"radius\":60},\n",
      "{\"name\":\"Objective-C\",\"group\":19,\"radius\":0},\n",
      "{\"name\":\"PHP\",\"group\":20,\"radius\":100},\n",
      "{\"name\":\"Python\",\"group\":21,\"radius\":2},\n",
      "{\"name\":\"Sql\",\"group\":22,\"radius\":13},\n",
      "{\"name\":\"Unix\",\"group\":23,\"radius\":2},\n",
      "{\"name\":\"Visual Basic\",\"group\":24,\"radius\":1},\n",
      "{\"name\":\"Visual C++\",\"group\":25,\"radius\":0},\n",
      "{\"name\":\"XML\",\"group\":26,\"radius\":3},\n"
     ]
    }
   ],
   "source": [
    "#coding=utf-8\n",
    "import json\n",
    "import MySQLdb\n",
    "import math\n",
    "\n",
    "with open('skill_list.json') as data_file:    \n",
    "    data = json.load(data_file)\n",
    "\n",
    "db = MySQLdb.connect(\"10.120.26.46\",\"yang\",\"iiizb104\",\"project\" )\n",
    "cursor = db.cursor()\n",
    "# sql = \"SELECT skill FROM project.job where jobno between 1 AND 1000\"\n",
    "sql = \"SELECT clusterVector FROM project.cluster where cID = {};\".format(0)\n",
    "cursor.execute(sql)\n",
    "results = cursor.fetchone()\n",
    "\n",
    "num = json.loads(results[0])\n",
    "\n",
    "# print str(round(num[0]*1000))\n",
    "\n",
    "# print 1 / (1 + math.exp(-num[0]))\n",
    "\n",
    "s = ''\n",
    "for each in range(0,26,1):  \n",
    "    tmp = (num[each] - min(num))/(max(num)-min(num))\n",
    "    tmpS='\"name\":\"{}\",\"group\":{},\"radius\":{}'.format(data[each].encode('utf-8'),each+1,int(round(tmp*100)))\n",
    "#     tmpDic[count]:str(round(num[0]*1000))\n",
    "    s = s + '\\n' + '{' + tmpS + '},'\n",
    "\n",
    "print s"
   ]
  },
  {
   "cell_type": "code",
   "execution_count": 62,
   "metadata": {
    "collapsed": false,
    "scrolled": true
   },
   "outputs": [
    {
     "name": "stdout",
     "output_type": "stream",
     "text": [
      "\n",
      "{text:\".NET\",count:47},\n",
      "{text:\"Visual Basic\",count:38},\n",
      "{text:\"Sql\",count:18},\n",
      "{text:\"C#\",count:18},\n",
      "{text:\"ASP.NET\",count:10},\n",
      "{text:\"Java\",count:9},\n",
      "{text:\"C++\",count:5},\n",
      "{text:\"JavaScript\",count:5},\n",
      "{text:\"C#.NET\",count:5},\n",
      "{text:\"MySQL\",count:3},\n",
      "{text:\"C\",count:3},\n",
      "{text:\"HTML\",count:3},\n"
     ]
    }
   ],
   "source": [
    "#coding=utf-8\n",
    "import json\n",
    "import MySQLdb\n",
    "import math\n",
    "\n",
    "with open('skill_list.json') as data_file:    \n",
    "    data = json.load(data_file)\n",
    "\n",
    "db = MySQLdb.connect(\"10.120.26.46\",\"yang\",\"iiizb104\",\"project\" )\n",
    "cursor = db.cursor()\n",
    "# sql = \"SELECT skill FROM project.job where jobno between 1 AND 1000\"\n",
    "sql = \"SELECT clusterVector FROM project.cluster where cID = {};\".format(11)\n",
    "cursor.execute(sql)\n",
    "results = cursor.fetchone()\n",
    "\n",
    "num = json.loads(results[0])\n",
    "\n",
    "# print str(round(num[0]*1000))\n",
    "\n",
    "# print 1 / (1 + math.exp(-num[0]))\n",
    "\n",
    "s = ''\n",
    "for each in range(0,12,1): \n",
    "    maxNum = max(num)\n",
    "    index = [i for i, j in enumerate(num) if j == max(num)]\n",
    "#     tmp = (num[each] - min(num))/(max(num)-min(num))\n",
    "    tmpS='text:\"{}\",count:{}'.format(data[index[0]],int(round(maxNum*100)))\n",
    "    s = s + '\\n' + '{' + tmpS + '},'\n",
    "    num.remove(maxNum)\n",
    "    data.remove(data[index[0]])\n",
    "    \n",
    "print s"
   ]
  },
  {
   "cell_type": "code",
   "execution_count": 29,
   "metadata": {
    "collapsed": false
   },
   "outputs": [
    {
     "name": "stdout",
     "output_type": "stream",
     "text": [
      "[0.00961009432927215, 0.05658118388299949, 0.00856134098077459, 0.017129407693905526, 0.028363249335402657, 0.019699896106355027, 0.026816874956273135, 0.005132733005613995, 0.015045669677371316, 0.07459517929794036, 0.11509379470957457, 0.008088601471159333, 0.07929081107958431, 0.13690479482827503, 0.09831744475631612, 0.01831779347153616, 0.11748794087123789, 0.3569331277214671, 0.003329956994165786, 0.01379626736758256, 0.07722799997668144, 0.015399913099168364, 0.007877772828893953, 0.0020282640800266495, 0.02232600776556168]\n",
      "mysql\n"
     ]
    }
   ],
   "source": [
    "import MySQLdb\n",
    "import json\n",
    "\n",
    "db = MySQLdb.connect(\"10.120.26.46\",\"yang\",\"iiizb104\",\"project\" )\n",
    "cursor = db.cursor()\n",
    "sql = \"SELECT clusterVector FROM project.cluster where cID = {};\".format(0)\n",
    "sql2 = \"SELECT dict FROM project.dict where no = 1;\" \n",
    "\n",
    "cursor.execute(sql)\n",
    "Vector = cursor.fetchone()\n",
    "cVector = json.loads(Vector[0])\n",
    "\n",
    "cursor.execute(sql2)\n",
    "skills = cursor.fetchone()\n",
    "skill_list = json.loads(skills[0])\n",
    "    \n",
    "vec = [0,0,0,0,0,0,0,0,0,0,0,0,0,0,0,0,0,0,0,1,0,0,0,0,0,0]\n",
    "\n",
    "ind = [i for i, j in enumerate(vec) if j == 0]\n",
    "\n",
    "skill_list_new = []\n",
    "cVector_new = []\n",
    "\n",
    "for each in ind:\n",
    "    skill_list_new.append(skill_list[each])\n",
    "    cVector_new.append(cVector[each])\n",
    "    \n",
    "recSkill = skill_list_new[cVector_new.index(max(cVector_new))]\n",
    "\n",
    "return recSkill  \n",
    "\n"
   ]
  },
  {
   "cell_type": "code",
   "execution_count": null,
   "metadata": {
    "collapsed": true
   },
   "outputs": [],
   "source": []
  }
 ],
 "metadata": {
  "kernelspec": {
   "display_name": "Python 2",
   "language": "python",
   "name": "python2"
  },
  "language_info": {
   "codemirror_mode": {
    "name": "ipython",
    "version": 2
   },
   "file_extension": ".py",
   "mimetype": "text/x-python",
   "name": "python",
   "nbconvert_exporter": "python",
   "pygments_lexer": "ipython2",
   "version": "2.7.11"
  }
 },
 "nbformat": 4,
 "nbformat_minor": 0
}
